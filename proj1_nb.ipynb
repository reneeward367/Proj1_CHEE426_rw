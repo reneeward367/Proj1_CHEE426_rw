{
 "cells": [
  {
   "cell_type": "markdown",
   "metadata": {},
   "source": [
    "# CHEE 426 Project 1\n",
    "Spring 2024\n",
    "\n",
    "This is my jupyter notebook for Project 1. I used the following features / variables to develop a regression to model CO(g/mi) emmisions:\n",
    "\n",
    "Vehicle Manufacturer Name, Test Veh Displacement (L), Rated Horsepower, # of Cylinders and Rotors, # of Gears, Equivalent Test Weight (lbs.), Axle Ratio, N/V Ratio, THC (g/mi), CO (g/mi), CO2 (g/mi), NOx (g/mi), PM (g/mi), CH4 (g/mi), N2O (g/mi)"
   ]
  },
  {
   "cell_type": "markdown",
   "metadata": {
    "jp-MarkdownHeadingCollapsed": true
   },
   "source": [
    "## Problem Statement:\n",
    "\n",
    "This Project 1 for the course is the application of the concepts and techniques for the materials covered in Chapter 1 and 2. The problem you have to solve is to develop a regression model for the prediction of CO emissions of light-duty vehicles by training on the fuel economy dataset collected by US-EPA for vehicle model year 2024. "
   ]
  },
  {
   "cell_type": "markdown",
   "metadata": {},
   "source": [
    "## Import Python Modules (packages) \n",
    "Packages are where we will get functions to use in the workflow."
   ]
  },
  {
   "cell_type": "code",
   "execution_count": 1,
   "metadata": {},
   "outputs": [],
   "source": [
    "import pandas as pd\n",
    "import numpy as np\n",
    "\n",
    "import seaborn as sns\n",
    "from matplotlib import pyplot as plt\n",
    "%matplotlib inline"
   ]
  },
  {
   "cell_type": "markdown",
   "metadata": {},
   "source": [
    "## Import Data"
   ]
  },
  {
   "cell_type": "code",
   "execution_count": 2,
   "metadata": {},
   "outputs": [
    {
     "data": {
      "text/plain": [
       "3114"
      ]
     },
     "execution_count": 2,
     "metadata": {},
     "output_type": "execute_result"
    }
   ],
   "source": [
    "df = pd.read_csv('proj1data.csv')\n",
    "len(df)"
   ]
  },
  {
   "cell_type": "markdown",
   "metadata": {},
   "source": [
    "## Preprocess and Prepare Data"
   ]
  },
  {
   "cell_type": "code",
   "execution_count": 3,
   "metadata": {
    "scrolled": true
   },
   "outputs": [
    {
     "data": {
      "text/html": [
       "<div>\n",
       "<style scoped>\n",
       "    .dataframe tbody tr th:only-of-type {\n",
       "        vertical-align: middle;\n",
       "    }\n",
       "\n",
       "    .dataframe tbody tr th {\n",
       "        vertical-align: top;\n",
       "    }\n",
       "\n",
       "    .dataframe thead th {\n",
       "        text-align: right;\n",
       "    }\n",
       "</style>\n",
       "<table border=\"1\" class=\"dataframe\">\n",
       "  <thead>\n",
       "    <tr style=\"text-align: right;\">\n",
       "      <th></th>\n",
       "      <th>Model Year</th>\n",
       "      <th>Vehicle Manufacturer Name</th>\n",
       "      <th>Veh Mfr Code</th>\n",
       "      <th>Represented Test Veh Make</th>\n",
       "      <th>Represented Test Veh Model</th>\n",
       "      <th>Test Vehicle ID</th>\n",
       "      <th>Test Veh Configuration #</th>\n",
       "      <th>Test Veh Displacement (L)</th>\n",
       "      <th>Actual Tested Testgroup</th>\n",
       "      <th>Vehicle Type</th>\n",
       "      <th>...</th>\n",
       "      <th>Set Coef A (lbf)</th>\n",
       "      <th>Set Coef B (lbf/mph)</th>\n",
       "      <th>Set Coef C (lbf/mph**2)</th>\n",
       "      <th>Aftertreatment Device Cd</th>\n",
       "      <th>Aftertreatment Device Desc</th>\n",
       "      <th>Police - Emergency Vehicle?</th>\n",
       "      <th>Averaging Group ID</th>\n",
       "      <th>Averaging Weighting Factor</th>\n",
       "      <th>Averaging Method Cd</th>\n",
       "      <th>Averging Method Desc</th>\n",
       "    </tr>\n",
       "  </thead>\n",
       "  <tbody>\n",
       "    <tr>\n",
       "      <th>0</th>\n",
       "      <td>2024</td>\n",
       "      <td>aston martin</td>\n",
       "      <td>ASX</td>\n",
       "      <td>Aston Martin</td>\n",
       "      <td>DB12 V8</td>\n",
       "      <td>5723PT5601</td>\n",
       "      <td>0</td>\n",
       "      <td>4.0</td>\n",
       "      <td>RASXV04.0AES</td>\n",
       "      <td>Car</td>\n",
       "      <td>...</td>\n",
       "      <td>5.67</td>\n",
       "      <td>0.0083</td>\n",
       "      <td>0.0221</td>\n",
       "      <td>TWC</td>\n",
       "      <td>Three-way catalyst</td>\n",
       "      <td>N</td>\n",
       "      <td>NaN</td>\n",
       "      <td>NaN</td>\n",
       "      <td>N</td>\n",
       "      <td>No averaging</td>\n",
       "    </tr>\n",
       "    <tr>\n",
       "      <th>1</th>\n",
       "      <td>2024</td>\n",
       "      <td>aston martin</td>\n",
       "      <td>ASX</td>\n",
       "      <td>Aston Martin</td>\n",
       "      <td>DB12 V8</td>\n",
       "      <td>5723PT5601</td>\n",
       "      <td>0</td>\n",
       "      <td>4.0</td>\n",
       "      <td>RASXV04.0AES</td>\n",
       "      <td>Car</td>\n",
       "      <td>...</td>\n",
       "      <td>5.67</td>\n",
       "      <td>0.0083</td>\n",
       "      <td>0.0221</td>\n",
       "      <td>TWC</td>\n",
       "      <td>Three-way catalyst</td>\n",
       "      <td>N</td>\n",
       "      <td>NaN</td>\n",
       "      <td>NaN</td>\n",
       "      <td>N</td>\n",
       "      <td>No averaging</td>\n",
       "    </tr>\n",
       "    <tr>\n",
       "      <th>2</th>\n",
       "      <td>2024</td>\n",
       "      <td>aston martin</td>\n",
       "      <td>ASX</td>\n",
       "      <td>Aston Martin</td>\n",
       "      <td>DBX</td>\n",
       "      <td>8001PT8342</td>\n",
       "      <td>1</td>\n",
       "      <td>4.0</td>\n",
       "      <td>MASXJ04.0AEX</td>\n",
       "      <td>Both</td>\n",
       "      <td>...</td>\n",
       "      <td>-4.88</td>\n",
       "      <td>-0.5318</td>\n",
       "      <td>0.0367</td>\n",
       "      <td>TWC</td>\n",
       "      <td>Three-way catalyst</td>\n",
       "      <td>N</td>\n",
       "      <td>NaN</td>\n",
       "      <td>NaN</td>\n",
       "      <td>N</td>\n",
       "      <td>No averaging</td>\n",
       "    </tr>\n",
       "    <tr>\n",
       "      <th>3</th>\n",
       "      <td>2024</td>\n",
       "      <td>aston martin</td>\n",
       "      <td>ASX</td>\n",
       "      <td>Aston Martin</td>\n",
       "      <td>DBX</td>\n",
       "      <td>8001PT8342</td>\n",
       "      <td>1</td>\n",
       "      <td>4.0</td>\n",
       "      <td>MASXJ04.0AEX</td>\n",
       "      <td>Both</td>\n",
       "      <td>...</td>\n",
       "      <td>-4.88</td>\n",
       "      <td>-0.5318</td>\n",
       "      <td>0.0367</td>\n",
       "      <td>TWC</td>\n",
       "      <td>Three-way catalyst</td>\n",
       "      <td>N</td>\n",
       "      <td>NaN</td>\n",
       "      <td>NaN</td>\n",
       "      <td>N</td>\n",
       "      <td>No averaging</td>\n",
       "    </tr>\n",
       "    <tr>\n",
       "      <th>4</th>\n",
       "      <td>2024</td>\n",
       "      <td>aston martin</td>\n",
       "      <td>ASX</td>\n",
       "      <td>Aston Martin</td>\n",
       "      <td>DBX 707</td>\n",
       "      <td>8841PT8473</td>\n",
       "      <td>0</td>\n",
       "      <td>4.0</td>\n",
       "      <td>PASXJ04.0AEX</td>\n",
       "      <td>Both</td>\n",
       "      <td>...</td>\n",
       "      <td>-4.88</td>\n",
       "      <td>-0.5318</td>\n",
       "      <td>0.0367</td>\n",
       "      <td>TWC</td>\n",
       "      <td>Three-way catalyst</td>\n",
       "      <td>N</td>\n",
       "      <td>NaN</td>\n",
       "      <td>NaN</td>\n",
       "      <td>N</td>\n",
       "      <td>No averaging</td>\n",
       "    </tr>\n",
       "  </tbody>\n",
       "</table>\n",
       "<p>5 rows × 67 columns</p>\n",
       "</div>"
      ],
      "text/plain": [
       "   Model Year Vehicle Manufacturer Name Veh Mfr Code  \\\n",
       "0        2024              aston martin          ASX   \n",
       "1        2024              aston martin          ASX   \n",
       "2        2024              aston martin          ASX   \n",
       "3        2024              aston martin          ASX   \n",
       "4        2024              aston martin          ASX   \n",
       "\n",
       "  Represented Test Veh Make Represented Test Veh Model Test Vehicle ID  \\\n",
       "0              Aston Martin                    DB12 V8      5723PT5601   \n",
       "1              Aston Martin                    DB12 V8      5723PT5601   \n",
       "2              Aston Martin                        DBX      8001PT8342   \n",
       "3              Aston Martin                        DBX      8001PT8342   \n",
       "4              Aston Martin                    DBX 707      8841PT8473   \n",
       "\n",
       "   Test Veh Configuration #  Test Veh Displacement (L)  \\\n",
       "0                         0                        4.0   \n",
       "1                         0                        4.0   \n",
       "2                         1                        4.0   \n",
       "3                         1                        4.0   \n",
       "4                         0                        4.0   \n",
       "\n",
       "  Actual Tested Testgroup Vehicle Type  ...  Set Coef A (lbf)  \\\n",
       "0            RASXV04.0AES          Car  ...              5.67   \n",
       "1            RASXV04.0AES          Car  ...              5.67   \n",
       "2            MASXJ04.0AEX         Both  ...             -4.88   \n",
       "3            MASXJ04.0AEX         Both  ...             -4.88   \n",
       "4            PASXJ04.0AEX         Both  ...             -4.88   \n",
       "\n",
       "   Set Coef B (lbf/mph) Set Coef C (lbf/mph**2) Aftertreatment Device Cd  \\\n",
       "0                0.0083                  0.0221                      TWC   \n",
       "1                0.0083                  0.0221                      TWC   \n",
       "2               -0.5318                  0.0367                      TWC   \n",
       "3               -0.5318                  0.0367                      TWC   \n",
       "4               -0.5318                  0.0367                      TWC   \n",
       "\n",
       "  Aftertreatment Device Desc  Police - Emergency Vehicle? Averaging Group ID  \\\n",
       "0         Three-way catalyst                            N                NaN   \n",
       "1         Three-way catalyst                            N                NaN   \n",
       "2         Three-way catalyst                            N                NaN   \n",
       "3         Three-way catalyst                            N                NaN   \n",
       "4         Three-way catalyst                            N                NaN   \n",
       "\n",
       "  Averaging Weighting Factor Averaging Method Cd  Averging Method Desc  \n",
       "0                        NaN                   N          No averaging  \n",
       "1                        NaN                   N          No averaging  \n",
       "2                        NaN                   N          No averaging  \n",
       "3                        NaN                   N          No averaging  \n",
       "4                        NaN                   N          No averaging  \n",
       "\n",
       "[5 rows x 67 columns]"
      ]
     },
     "execution_count": 3,
     "metadata": {},
     "output_type": "execute_result"
    }
   ],
   "source": [
    "df.head()"
   ]
  },
  {
   "cell_type": "code",
   "execution_count": 4,
   "metadata": {},
   "outputs": [
    {
     "data": {
      "text/plain": [
       "Index(['Model Year', 'Vehicle Manufacturer Name', 'Veh Mfr Code',\n",
       "       'Represented Test Veh Make', 'Represented Test Veh Model',\n",
       "       'Test Vehicle ID', 'Test Veh Configuration #',\n",
       "       'Test Veh Displacement (L)', 'Actual Tested Testgroup', 'Vehicle Type',\n",
       "       'Rated Horsepower', '# of Cylinders and Rotors', 'Engine Code',\n",
       "       'Tested Transmission Type Code', 'Tested Transmission Type',\n",
       "       '# of Gears', 'Transmission Lockup?', 'Drive System Code',\n",
       "       'Drive System Description', 'Transmission Overdrive Code',\n",
       "       'Transmission Overdrive Desc', 'Equivalent Test Weight (lbs.)',\n",
       "       'Axle Ratio', 'N/V Ratio', 'Shift Indicator Light Use Cd',\n",
       "       'Shift Indicator Light Use Desc', 'Test Number', 'Test Originator',\n",
       "       'Analytically Derived FE?', 'ADFE Test Number',\n",
       "       'ADFE Total Road Load HP', 'ADFE Equiv. Test Weight (lbs.)',\n",
       "       'ADFE N/V Ratio', 'Test Procedure Cd', 'Test Procedure Description',\n",
       "       'Test Fuel Type Cd', 'Test Fuel Type Description', 'Test Category',\n",
       "       'THC (g/mi)', 'CO (g/mi)', 'CO2 (g/mi)', 'NOx (g/mi)', 'PM (g/mi)',\n",
       "       'CH4 (g/mi)', 'N2O (g/mi)', 'RND_ADJ_FE', 'FE_UNIT', 'FE Bag 1',\n",
       "       'FE Bag 2', 'FE Bag 3', 'FE Bag 4', 'DT-Inertia Work Ratio Rating',\n",
       "       'DT-Absolute Speed Change Ratg', 'DT-Energy Economy Rating',\n",
       "       'Target Coef A (lbf)', 'Target Coef B (lbf/mph)',\n",
       "       'Target Coef C (lbf/mph**2)', 'Set Coef A (lbf)',\n",
       "       'Set Coef B (lbf/mph)', 'Set Coef C (lbf/mph**2)',\n",
       "       'Aftertreatment Device Cd', 'Aftertreatment Device Desc',\n",
       "       'Police - Emergency Vehicle?', 'Averaging Group ID',\n",
       "       'Averaging Weighting Factor', 'Averaging Method Cd',\n",
       "       'Averging Method Desc'],\n",
       "      dtype='object')"
      ]
     },
     "execution_count": 4,
     "metadata": {},
     "output_type": "execute_result"
    }
   ],
   "source": [
    "df.columns"
   ]
  },
  {
   "cell_type": "code",
   "execution_count": 5,
   "metadata": {},
   "outputs": [],
   "source": [
    "df.columns = df.columns.str.lower().str.replace(' ','_', regex=True) # replace all spaces with '_'\n",
    "df.columns = df.columns.str.lower().str.replace('[^\\w]','', regex=True) # then remove all spacial characters"
   ]
  },
  {
   "cell_type": "code",
   "execution_count": 6,
   "metadata": {
    "scrolled": true
   },
   "outputs": [
    {
     "data": {
      "text/plain": [
       "Index(['model_year', 'vehicle_manufacturer_name', 'veh_mfr_code',\n",
       "       'represented_test_veh_make', 'represented_test_veh_model',\n",
       "       'test_vehicle_id', 'test_veh_configuration_', 'test_veh_displacement_l',\n",
       "       'actual_tested_testgroup', 'vehicle_type', 'rated_horsepower',\n",
       "       '_of_cylinders_and_rotors', 'engine_code',\n",
       "       'tested_transmission_type_code', 'tested_transmission_type',\n",
       "       '_of_gears', 'transmission_lockup', 'drive_system_code',\n",
       "       'drive_system_description', 'transmission_overdrive_code',\n",
       "       'transmission_overdrive_desc', 'equivalent_test_weight_lbs',\n",
       "       'axle_ratio', 'nv_ratio', 'shift_indicator_light_use_cd',\n",
       "       'shift_indicator_light_use_desc', 'test_number', 'test_originator',\n",
       "       'analytically_derived_fe', 'adfe_test_number',\n",
       "       'adfe_total_road_load_hp', 'adfe_equiv_test_weight_lbs',\n",
       "       'adfe_nv_ratio', 'test_procedure_cd', 'test_procedure_description',\n",
       "       'test_fuel_type_cd', 'test_fuel_type_description', 'test_category',\n",
       "       'thc_gmi', 'co_gmi', 'co2_gmi', 'nox_gmi', 'pm_gmi', 'ch4_gmi',\n",
       "       'n2o_gmi', 'rnd_adj_fe', 'fe_unit', 'fe_bag_1', 'fe_bag_2', 'fe_bag_3',\n",
       "       'fe_bag_4', 'dtinertia_work_ratio_rating',\n",
       "       'dtabsolute_speed_change_ratg', 'dtenergy_economy_rating',\n",
       "       'target_coef_a_lbf', 'target_coef_b_lbfmph', 'target_coef_c_lbfmph2',\n",
       "       'set_coef_a_lbf', 'set_coef_b_lbfmph', 'set_coef_c_lbfmph2',\n",
       "       'aftertreatment_device_cd', 'aftertreatment_device_desc',\n",
       "       'police__emergency_vehicle', 'averaging_group_id',\n",
       "       'averaging_weighting_factor', 'averaging_method_cd',\n",
       "       'averging_method_desc'],\n",
       "      dtype='object')"
      ]
     },
     "execution_count": 6,
     "metadata": {},
     "output_type": "execute_result"
    }
   ],
   "source": [
    "df.columns"
   ]
  },
  {
   "cell_type": "code",
   "execution_count": 7,
   "metadata": {
    "scrolled": false
   },
   "outputs": [
    {
     "data": {
      "text/html": [
       "<div>\n",
       "<style scoped>\n",
       "    .dataframe tbody tr th:only-of-type {\n",
       "        vertical-align: middle;\n",
       "    }\n",
       "\n",
       "    .dataframe tbody tr th {\n",
       "        vertical-align: top;\n",
       "    }\n",
       "\n",
       "    .dataframe thead th {\n",
       "        text-align: right;\n",
       "    }\n",
       "</style>\n",
       "<table border=\"1\" class=\"dataframe\">\n",
       "  <thead>\n",
       "    <tr style=\"text-align: right;\">\n",
       "      <th></th>\n",
       "      <th>model_year</th>\n",
       "      <th>vehicle_manufacturer_name</th>\n",
       "      <th>veh_mfr_code</th>\n",
       "      <th>represented_test_veh_make</th>\n",
       "      <th>represented_test_veh_model</th>\n",
       "      <th>test_vehicle_id</th>\n",
       "      <th>test_veh_configuration_</th>\n",
       "      <th>test_veh_displacement_l</th>\n",
       "      <th>actual_tested_testgroup</th>\n",
       "      <th>vehicle_type</th>\n",
       "      <th>...</th>\n",
       "      <th>set_coef_a_lbf</th>\n",
       "      <th>set_coef_b_lbfmph</th>\n",
       "      <th>set_coef_c_lbfmph2</th>\n",
       "      <th>aftertreatment_device_cd</th>\n",
       "      <th>aftertreatment_device_desc</th>\n",
       "      <th>police__emergency_vehicle</th>\n",
       "      <th>averaging_group_id</th>\n",
       "      <th>averaging_weighting_factor</th>\n",
       "      <th>averaging_method_cd</th>\n",
       "      <th>averging_method_desc</th>\n",
       "    </tr>\n",
       "  </thead>\n",
       "  <tbody>\n",
       "    <tr>\n",
       "      <th>0</th>\n",
       "      <td>2024</td>\n",
       "      <td>aston martin</td>\n",
       "      <td>ASX</td>\n",
       "      <td>Aston Martin</td>\n",
       "      <td>DB12 V8</td>\n",
       "      <td>5723PT5601</td>\n",
       "      <td>0</td>\n",
       "      <td>4.0</td>\n",
       "      <td>RASXV04.0AES</td>\n",
       "      <td>Car</td>\n",
       "      <td>...</td>\n",
       "      <td>5.67</td>\n",
       "      <td>0.0083</td>\n",
       "      <td>0.0221</td>\n",
       "      <td>TWC</td>\n",
       "      <td>Three-way catalyst</td>\n",
       "      <td>N</td>\n",
       "      <td>NaN</td>\n",
       "      <td>NaN</td>\n",
       "      <td>N</td>\n",
       "      <td>No averaging</td>\n",
       "    </tr>\n",
       "    <tr>\n",
       "      <th>1</th>\n",
       "      <td>2024</td>\n",
       "      <td>aston martin</td>\n",
       "      <td>ASX</td>\n",
       "      <td>Aston Martin</td>\n",
       "      <td>DB12 V8</td>\n",
       "      <td>5723PT5601</td>\n",
       "      <td>0</td>\n",
       "      <td>4.0</td>\n",
       "      <td>RASXV04.0AES</td>\n",
       "      <td>Car</td>\n",
       "      <td>...</td>\n",
       "      <td>5.67</td>\n",
       "      <td>0.0083</td>\n",
       "      <td>0.0221</td>\n",
       "      <td>TWC</td>\n",
       "      <td>Three-way catalyst</td>\n",
       "      <td>N</td>\n",
       "      <td>NaN</td>\n",
       "      <td>NaN</td>\n",
       "      <td>N</td>\n",
       "      <td>No averaging</td>\n",
       "    </tr>\n",
       "    <tr>\n",
       "      <th>2</th>\n",
       "      <td>2024</td>\n",
       "      <td>aston martin</td>\n",
       "      <td>ASX</td>\n",
       "      <td>Aston Martin</td>\n",
       "      <td>DBX</td>\n",
       "      <td>8001PT8342</td>\n",
       "      <td>1</td>\n",
       "      <td>4.0</td>\n",
       "      <td>MASXJ04.0AEX</td>\n",
       "      <td>Both</td>\n",
       "      <td>...</td>\n",
       "      <td>-4.88</td>\n",
       "      <td>-0.5318</td>\n",
       "      <td>0.0367</td>\n",
       "      <td>TWC</td>\n",
       "      <td>Three-way catalyst</td>\n",
       "      <td>N</td>\n",
       "      <td>NaN</td>\n",
       "      <td>NaN</td>\n",
       "      <td>N</td>\n",
       "      <td>No averaging</td>\n",
       "    </tr>\n",
       "    <tr>\n",
       "      <th>3</th>\n",
       "      <td>2024</td>\n",
       "      <td>aston martin</td>\n",
       "      <td>ASX</td>\n",
       "      <td>Aston Martin</td>\n",
       "      <td>DBX</td>\n",
       "      <td>8001PT8342</td>\n",
       "      <td>1</td>\n",
       "      <td>4.0</td>\n",
       "      <td>MASXJ04.0AEX</td>\n",
       "      <td>Both</td>\n",
       "      <td>...</td>\n",
       "      <td>-4.88</td>\n",
       "      <td>-0.5318</td>\n",
       "      <td>0.0367</td>\n",
       "      <td>TWC</td>\n",
       "      <td>Three-way catalyst</td>\n",
       "      <td>N</td>\n",
       "      <td>NaN</td>\n",
       "      <td>NaN</td>\n",
       "      <td>N</td>\n",
       "      <td>No averaging</td>\n",
       "    </tr>\n",
       "    <tr>\n",
       "      <th>4</th>\n",
       "      <td>2024</td>\n",
       "      <td>aston martin</td>\n",
       "      <td>ASX</td>\n",
       "      <td>Aston Martin</td>\n",
       "      <td>DBX 707</td>\n",
       "      <td>8841PT8473</td>\n",
       "      <td>0</td>\n",
       "      <td>4.0</td>\n",
       "      <td>PASXJ04.0AEX</td>\n",
       "      <td>Both</td>\n",
       "      <td>...</td>\n",
       "      <td>-4.88</td>\n",
       "      <td>-0.5318</td>\n",
       "      <td>0.0367</td>\n",
       "      <td>TWC</td>\n",
       "      <td>Three-way catalyst</td>\n",
       "      <td>N</td>\n",
       "      <td>NaN</td>\n",
       "      <td>NaN</td>\n",
       "      <td>N</td>\n",
       "      <td>No averaging</td>\n",
       "    </tr>\n",
       "  </tbody>\n",
       "</table>\n",
       "<p>5 rows × 67 columns</p>\n",
       "</div>"
      ],
      "text/plain": [
       "   model_year vehicle_manufacturer_name veh_mfr_code  \\\n",
       "0        2024              aston martin          ASX   \n",
       "1        2024              aston martin          ASX   \n",
       "2        2024              aston martin          ASX   \n",
       "3        2024              aston martin          ASX   \n",
       "4        2024              aston martin          ASX   \n",
       "\n",
       "  represented_test_veh_make represented_test_veh_model test_vehicle_id  \\\n",
       "0              Aston Martin                    DB12 V8      5723PT5601   \n",
       "1              Aston Martin                    DB12 V8      5723PT5601   \n",
       "2              Aston Martin                        DBX      8001PT8342   \n",
       "3              Aston Martin                        DBX      8001PT8342   \n",
       "4              Aston Martin                    DBX 707      8841PT8473   \n",
       "\n",
       "   test_veh_configuration_  test_veh_displacement_l actual_tested_testgroup  \\\n",
       "0                        0                      4.0            RASXV04.0AES   \n",
       "1                        0                      4.0            RASXV04.0AES   \n",
       "2                        1                      4.0            MASXJ04.0AEX   \n",
       "3                        1                      4.0            MASXJ04.0AEX   \n",
       "4                        0                      4.0            PASXJ04.0AEX   \n",
       "\n",
       "  vehicle_type  ...  set_coef_a_lbf  set_coef_b_lbfmph set_coef_c_lbfmph2  \\\n",
       "0          Car  ...            5.67             0.0083             0.0221   \n",
       "1          Car  ...            5.67             0.0083             0.0221   \n",
       "2         Both  ...           -4.88            -0.5318             0.0367   \n",
       "3         Both  ...           -4.88            -0.5318             0.0367   \n",
       "4         Both  ...           -4.88            -0.5318             0.0367   \n",
       "\n",
       "  aftertreatment_device_cd aftertreatment_device_desc  \\\n",
       "0                      TWC         Three-way catalyst   \n",
       "1                      TWC         Three-way catalyst   \n",
       "2                      TWC         Three-way catalyst   \n",
       "3                      TWC         Three-way catalyst   \n",
       "4                      TWC         Three-way catalyst   \n",
       "\n",
       "   police__emergency_vehicle averaging_group_id averaging_weighting_factor  \\\n",
       "0                          N                NaN                        NaN   \n",
       "1                          N                NaN                        NaN   \n",
       "2                          N                NaN                        NaN   \n",
       "3                          N                NaN                        NaN   \n",
       "4                          N                NaN                        NaN   \n",
       "\n",
       "  averaging_method_cd  averging_method_desc  \n",
       "0                   N          No averaging  \n",
       "1                   N          No averaging  \n",
       "2                   N          No averaging  \n",
       "3                   N          No averaging  \n",
       "4                   N          No averaging  \n",
       "\n",
       "[5 rows x 67 columns]"
      ]
     },
     "execution_count": 7,
     "metadata": {},
     "output_type": "execute_result"
    }
   ],
   "source": [
    "df.head()"
   ]
  },
  {
   "cell_type": "markdown",
   "metadata": {},
   "source": [
    "# Exploratory data analysis"
   ]
  },
  {
   "cell_type": "code",
   "execution_count": 8,
   "metadata": {},
   "outputs": [
    {
     "name": "stderr",
     "output_type": "stream",
     "text": [
      "C:\\Users\\renee\\anaconda\\envs\\CHEE426\\lib\\site-packages\\seaborn\\_oldcore.py:1119: FutureWarning: use_inf_as_na option is deprecated and will be removed in a future version. Convert inf values to NaN before operating instead.\n",
      "  with pd.option_context('mode.use_inf_as_na', True):\n"
     ]
    },
    {
     "data": {
      "image/png": "[encoded data removed]",
      "text/plain": [
       "<Figure size 600x400 with 1 Axes>"
      ]
     },
     "metadata": {},
     "output_type": "display_data"
    }
   ],
   "source": [
    "# Let us look at the distribution of values in the targte output Y whihc is CO\n",
    "plt.figure(figsize=(6, 4))\n",
    "\n",
    "sns.histplot(df.co_gmi, bins=40, color='pink', alpha=1)\n",
    "plt.ylabel('Frequency')\n",
    "plt.xlabel('CO(g/mi)')\n",
    "plt.title('Distribution of CO(g/mi)')\n",
    "\n",
    "plt.show()"
   ]
  },
  {
   "cell_type": "code",
   "execution_count": 9,
   "metadata": {},
   "outputs": [
    {
     "name": "stderr",
     "output_type": "stream",
     "text": [
      "C:\\Users\\renee\\anaconda\\envs\\CHEE426\\lib\\site-packages\\seaborn\\_oldcore.py:1119: FutureWarning: use_inf_as_na option is deprecated and will be removed in a future version. Convert inf values to NaN before operating instead.\n",
      "  with pd.option_context('mode.use_inf_as_na', True):\n"
     ]
    },
    {
     "data": {
      "image/png": "[encoded data removed]",
      "text/plain": [
       "<Figure size 600x400 with 1 Axes>"
      ]
     },
     "metadata": {},
     "output_type": "display_data"
    }
   ],
   "source": [
    "# Let's see the distribution at the lower values of CO\n",
    "\n",
    "plt.figure(figsize=(6, 4))\n",
    "\n",
    "sns.histplot(df.co_gmi[df.co_gmi < 2], bins=40, color='blue', alpha=1)\n",
    "plt.ylabel('Frequency')\n",
    "plt.xlabel('CO(g/mi)')\n",
    "plt.title('Distribution of CO(g/mi)')\n",
    "\n",
    "plt.show()"
   ]
  },
  {
   "cell_type": "code",
   "execution_count": 10,
   "metadata": {},
   "outputs": [
    {
     "name": "stderr",
     "output_type": "stream",
     "text": [
      "C:\\Users\\renee\\anaconda\\envs\\CHEE426\\lib\\site-packages\\seaborn\\_oldcore.py:1119: FutureWarning: use_inf_as_na option is deprecated and will be removed in a future version. Convert inf values to NaN before operating instead.\n",
      "  with pd.option_context('mode.use_inf_as_na', True):\n"
     ]
    },
    {
     "data": {
      "image/png": "[encoded data removed]",
      "text/plain": [
       "<Figure size 600x400 with 1 Axes>"
      ]
     },
     "metadata": {},
     "output_type": "display_data"
    }
   ],
   "source": [
    "log_co = np.log1p(df.co_gmi)\n",
    "\n",
    "plt.figure(figsize=(6, 4))\n",
    "\n",
    "sns.histplot(log_co, bins=40, color='green', alpha=1)\n",
    "plt.ylabel('Frequency')\n",
    "plt.xlabel('Log(CO + 1)')\n",
    "plt.title('Distribution of CO levels after log tranformation')\n",
    "\n",
    "plt.show()\n",
    "\n",
    "# Based on the graph below, log-transformation does not signficantly change the look of CO distribution, \n",
    "# so log-transform on CO will not have significant improvement effect on the eventual model"
   ]
  },
  {
   "cell_type": "code",
   "execution_count": 11,
   "metadata": {},
   "outputs": [
    {
     "data": {
      "text/plain": [
       "model_year                       0\n",
       "vehicle_manufacturer_name        0\n",
       "veh_mfr_code                     0\n",
       "represented_test_veh_make        0\n",
       "represented_test_veh_model       0\n",
       "                              ... \n",
       "police__emergency_vehicle        0\n",
       "averaging_group_id            3084\n",
       "averaging_weighting_factor    3084\n",
       "averaging_method_cd              0\n",
       "averging_method_desc             0\n",
       "Length: 67, dtype: int64"
      ]
     },
     "execution_count": 11,
     "metadata": {},
     "output_type": "execute_result"
    }
   ],
   "source": [
    "df.isnull().sum()"
   ]
  },
  {
   "cell_type": "markdown",
   "metadata": {},
   "source": [
    "## Validation framework"
   ]
  },
  {
   "cell_type": "code",
   "execution_count": 12,
   "metadata": {},
   "outputs": [],
   "source": [
    "# Set random number seed for reproducility of results by other users of the notebook\n",
    "np.random.seed(2)\n",
    "\n",
    "\n",
    "# Since the target var CO cannot have NULL values, let's remove the rows (data-points) that have CO=NULL or NaN or NA\n",
    "# We have to do this before we perform the succeeding steps of splitting the dataset\n",
    "\n",
    "df = df.dropna(subset = ['co_gmi'])\n",
    "\n",
    "# Now splitting the dataset using 20% for Test set and the remianing 80% for Train+Val set\n",
    "n = len(df)\n",
    "\n",
    "n_val = int(0.2 * n)\n",
    "n_test = int(0.2 * n)\n",
    "n_train = n - (n_val + n_test)\n",
    "\n",
    "idx = np.arange(n)\n",
    "np.random.shuffle(idx)\n",
    "\n",
    "df_shuffled = df.iloc[idx]\n",
    "\n",
    "df_train = df_shuffled.iloc[:n_train].copy()\n",
    "df_val = df_shuffled.iloc[n_train:n_train+n_val].copy()\n",
    "df_test = df_shuffled.iloc[n_train+n_val:].copy()\n",
    "\n"
   ]
  },
  {
   "cell_type": "code",
   "execution_count": 13,
   "metadata": {},
   "outputs": [],
   "source": [
    "# Note: The target Y for your Poject 1 is CO (g/mi)\n",
    "\n",
    "y_train_orig = df_train.co_gmi.values\n",
    "y_val_orig = df_val.co_gmi.values\n",
    "y_test_orig = df_test.co_gmi.values\n",
    "\n",
    "# no need for log-transform as shown above, so we just equate the vars\n",
    "y_train = y_train_orig\n",
    "y_val = y_val_orig\n",
    "y_test = y_test_orig\n",
    "\n",
    "# since CO is a Y variable, then delete it from the pool of potential X variables\n",
    "del df_train['co_gmi']\n",
    "del df_val['co_gmi']\n",
    "del df_test['co_gmi']"
   ]
  },
  {
   "cell_type": "markdown",
   "metadata": {},
   "source": [
    "## Linear Regression"
   ]
  },
  {
   "cell_type": "code",
   "execution_count": 14,
   "metadata": {},
   "outputs": [],
   "source": [
    "# This is the linear regression algorithm (closed-form formula to compute the linear model coefficients)\n",
    "\n",
    "def train_linear_regression(X, y):\n",
    "    ones = np.ones(X.shape[0])\n",
    "    X = np.column_stack([ones, X])\n",
    "\n",
    "    XTX = X.T.dot(X)\n",
    "    XTX_inv = np.linalg.inv(XTX)\n",
    "    w = XTX_inv.dot(X.T).dot(y)\n",
    "    \n",
    "    return w[0], w[1:]"
   ]
  },
  {
   "cell_type": "markdown",
   "metadata": {},
   "source": [
    "## Baseline solution"
   ]
  },
  {
   "cell_type": "code",
   "execution_count": 15,
   "metadata": {},
   "outputs": [],
   "source": [
    "# This is where you select your predicror variables or X variables.\n",
    "# Remember your project constraint: use at least 10 X varibales (except CO(g/mi) or course), and at least 1 X-var is a categorical var\n",
    "# How to know which X-var to select? Check the PDF document of Variable Definition, which is also uploaded in Moodle under Project 1\n",
    "#\n",
    "\n",
    "base = ['test_veh_displacement_l', 'rated_horsepower',\n",
    "       '_of_cylinders_and_rotors', '_of_gears', 'equivalent_test_weight_lbs',\n",
    "       'axle_ratio', 'nv_ratio', 'thc_gmi', 'co2_gmi', 'nox_gmi', 'pm_gmi', 'ch4_gmi',\n",
    "       'n2o_gmi']"
   ]
  },
  {
   "cell_type": "code",
   "execution_count": 16,
   "metadata": {},
   "outputs": [],
   "source": [
    "def prepare1_X(df):\n",
    "    df_num = df[base]\n",
    "    df_num = df_num.fillna(0)\n",
    "    X = df_num.values\n",
    "    return X"
   ]
  },
  {
   "cell_type": "code",
   "execution_count": 17,
   "metadata": {},
   "outputs": [],
   "source": [
    "X_train = prepare1_X(df_train)\n",
    "w_0, w = train_linear_regression(X_train, y_train)"
   ]
  },
  {
   "cell_type": "code",
   "execution_count": 18,
   "metadata": {},
   "outputs": [
    {
     "data": {
      "text/plain": [
       "array([1.10638  , 0.0361   , 0.0312183, ..., 0.749987 , 0.152    ,\n",
       "       0.052334 ])"
      ]
     },
     "execution_count": 18,
     "metadata": {},
     "output_type": "execute_result"
    }
   ],
   "source": [
    "y_train"
   ]
  },
  {
   "cell_type": "code",
   "execution_count": 19,
   "metadata": {},
   "outputs": [
    {
     "data": {
      "text/plain": [
       "-0.409462299879647"
      ]
     },
     "execution_count": 19,
     "metadata": {},
     "output_type": "execute_result"
    }
   ],
   "source": [
    "w_0"
   ]
  },
  {
   "cell_type": "code",
   "execution_count": 20,
   "metadata": {},
   "outputs": [],
   "source": [
    "y_pred = w_0 + X_train.dot(w)"
   ]
  },
  {
   "cell_type": "code",
   "execution_count": 21,
   "metadata": {},
   "outputs": [
    {
     "name": "stderr",
     "output_type": "stream",
     "text": [
      "C:\\Users\\renee\\anaconda\\envs\\CHEE426\\lib\\site-packages\\seaborn\\_oldcore.py:1119: FutureWarning: use_inf_as_na option is deprecated and will be removed in a future version. Convert inf values to NaN before operating instead.\n",
      "  with pd.option_context('mode.use_inf_as_na', True):\n",
      "C:\\Users\\renee\\anaconda\\envs\\CHEE426\\lib\\site-packages\\seaborn\\_oldcore.py:1119: FutureWarning: use_inf_as_na option is deprecated and will be removed in a future version. Convert inf values to NaN before operating instead.\n",
      "  with pd.option_context('mode.use_inf_as_na', True):\n"
     ]
    },
    {
     "data": {
      "image/png": "[encoded data removed]",
      "text/plain": [
       "<Figure size 600x400 with 1 Axes>"
      ]
     },
     "metadata": {},
     "output_type": "display_data"
    }
   ],
   "source": [
    "plt.figure(figsize=(6, 4))\n",
    "\n",
    "sns.histplot(y_train, label='target', color='purple', alpha=0.6, bins=40)\n",
    "sns.histplot(y_pred, label='prediction', color='white', alpha=0.8, bins=40)\n",
    "\n",
    "plt.legend()\n",
    "\n",
    "plt.ylabel('Frequency')\n",
    "plt.xlabel('Log(Price + 1)')\n",
    "plt.title('Predictions vs actual distribution')\n",
    "\n",
    "plt.show()"
   ]
  },
  {
   "cell_type": "code",
   "execution_count": 22,
   "metadata": {},
   "outputs": [],
   "source": [
    "def rmse(y, y_pred):\n",
    "    error = y_pred - y\n",
    "    mse = (error ** 2).mean()\n",
    "    return np.sqrt(mse)"
   ]
  },
  {
   "cell_type": "code",
   "execution_count": 23,
   "metadata": {},
   "outputs": [
    {
     "data": {
      "text/plain": [
       "0.32058288557797837"
      ]
     },
     "execution_count": 23,
     "metadata": {},
     "output_type": "execute_result"
    }
   ],
   "source": [
    "rmse(y_train, y_pred)"
   ]
  },
  {
   "cell_type": "code",
   "execution_count": 24,
   "metadata": {},
   "outputs": [],
   "source": [
    "X_val = prepare1_X(df_val)\n",
    "y_pred = w_0 + X_val.dot(w)"
   ]
  },
  {
   "cell_type": "code",
   "execution_count": 25,
   "metadata": {
    "scrolled": true
   },
   "outputs": [
    {
     "data": {
      "text/plain": [
       "6285.873961765548"
      ]
     },
     "execution_count": 25,
     "metadata": {},
     "output_type": "execute_result"
    }
   ],
   "source": [
    "rmse(y_val, y_pred)"
   ]
  },
  {
   "cell_type": "markdown",
   "metadata": {},
   "source": [
    "## Simple feature engineering\n",
    "Let use now include the 1 Categorical variable into the model as an X var.\n",
    "I chose for this demo the variable VEHICLE TYPE with column name 'vehicle_type'. This is a categorical data, so we have to convert this to numeric data.\n",
    "To convert to numeric, we use the \"One-Hot Encoding\" technique."
   ]
  },
  {
   "cell_type": "code",
   "execution_count": 26,
   "metadata": {},
   "outputs": [
    {
     "data": {
      "text/plain": [
       "vehicle_manufacturer_name\n",
       "GM                      458\n",
       "Toyota                  399\n",
       "BMW                     320\n",
       "Volkswagen Group of     252\n",
       "Hyundai                 184\n",
       "Nissan                  147\n",
       "Kia                     136\n",
       "Jaguar Land Rover L     115\n",
       "Porsche                 108\n",
       "Honda                   104\n",
       "FCA US LLC               94\n",
       "Mercedes-Benz            55\n",
       "Ferrari                  48\n",
       "Subaru                   40\n",
       "MAZDA                    40\n",
       "FOMOCO                   38\n",
       "Maserati                 35\n",
       "Mitsubishi Motors Co     33\n",
       "Volvo                    28\n",
       "Rolls-Royce               8\n",
       "aston martin              6\n",
       "Name: count, dtype: int64"
      ]
     },
     "execution_count": 26,
     "metadata": {},
     "output_type": "execute_result"
    }
   ],
   "source": [
    "df['vehicle_manufacturer_name'].value_counts().head(50)"
   ]
  },
  {
   "cell_type": "markdown",
   "metadata": {},
   "source": [
    "'vehicle_manufacturer_name' has 21 levels or categories: \n",
    "\n",
    "GM, Toyota, BMW, Volkswagen Group of, Hyundai, Nissan, Kia, Jaguar Land Rover L, Porsche, Honda, FCA US LLC, Mercedes-Benz, Ferrari, Subaru, MAZDA, FOMOCO, Maserati, Mitsubishi Motors Co, Volvo, Rolls-Royce, aston martin\n",
    "\n",
    "Let us use these levels for One-Hot Encoding."
   ]
  },
  {
   "cell_type": "code",
   "execution_count": 27,
   "metadata": {},
   "outputs": [],
   "source": [
    "def prepare2_X(df):\n",
    "    df = df.copy()\n",
    "    features = base.copy()\n",
    "\n",
    "    for v in ['GM', 'Toyota', 'BMW', 'Volkswagen Group of', 'Hyundai', 'Nissan', 'Kia', 'Jaguar Land Rover L', 'Porsche',\n",
    "              'Honda', 'FCA US LLC', 'Mercedes-Benz', 'Ferrari', 'Subaru', 'MAZDA', 'FOMOCO', 'Maserati', \n",
    "              'Mitsubishi Motors Co', 'Volvo', 'Rolls-Royce', 'aston martin']:\n",
    "        feature = 'is_type_%s' % v\n",
    "        df[feature] = (df['vehicle_manufacturer_name'] == v).astype(int)\n",
    "        features.append(feature)\n",
    "\n",
    "    df_num = df[features]\n",
    "    df_num = df_num.fillna(0)\n",
    "    X = df_num.values\n",
    "    return X"
   ]
  },
  {
   "cell_type": "code",
   "execution_count": 28,
   "metadata": {},
   "outputs": [],
   "source": [
    "X_train = prepare2_X(df_train)"
   ]
  },
  {
   "cell_type": "code",
   "execution_count": 29,
   "metadata": {},
   "outputs": [
    {
     "data": {
      "text/plain": [
       "array([[  3. , 305. ,   6. , ...,   0. ,   0. ,   0. ],\n",
       "       [  4. , 518. ,   6. , ...,   0. ,   0. ,   0. ],\n",
       "       [  2. , 270. ,   4. , ...,   0. ,   0. ,   0. ],\n",
       "       ...,\n",
       "       [  2. , 237. ,   4. , ...,   0. ,   0. ,   0. ],\n",
       "       [  2. , 146. ,   4. , ...,   0. ,   0. ,   0. ],\n",
       "       [  1.2, 137. ,   3. , ...,   0. ,   0. ,   0. ]])"
      ]
     },
     "execution_count": 29,
     "metadata": {},
     "output_type": "execute_result"
    }
   ],
   "source": [
    "X_train"
   ]
  },
  {
   "cell_type": "code",
   "execution_count": 30,
   "metadata": {},
   "outputs": [
    {
     "data": {
      "text/plain": [
       "(1590, 34)"
      ]
     },
     "execution_count": 30,
     "metadata": {},
     "output_type": "execute_result"
    }
   ],
   "source": [
    "X_train.shape"
   ]
  },
  {
   "cell_type": "markdown",
   "metadata": {},
   "source": [
    "## Training Another Linear Regression Model \n",
    "Now including the VEHICLE TYPE variable."
   ]
  },
  {
   "cell_type": "code",
   "execution_count": 31,
   "metadata": {},
   "outputs": [
    {
     "name": "stdout",
     "output_type": "stream",
     "text": [
      "train: 2.3244370008192967\n",
      "validation: 161826.8293533195\n"
     ]
    }
   ],
   "source": [
    "w_0, w = train_linear_regression(X_train, y_train)\n",
    "\n",
    "y_pred = w_0 + X_train.dot(w)\n",
    "print('train:', rmse(y_train, y_pred))\n",
    "\n",
    "X_val = prepare2_X(df_val)\n",
    "y_pred = w_0 + X_val.dot(w)\n",
    "print('validation:', rmse(y_val, y_pred))"
   ]
  },
  {
   "cell_type": "markdown",
   "metadata": {},
   "source": [
    "## Regularization"
   ]
  },
  {
   "cell_type": "code",
   "execution_count": 32,
   "metadata": {},
   "outputs": [],
   "source": [
    "def train_linear_regression_reg(X, y, r=0.0):\n",
    "    ones = np.ones(X.shape[0])\n",
    "    X = np.column_stack([ones, X])\n",
    "\n",
    "    XTX = X.T.dot(X)\n",
    "    reg = r * np.eye(XTX.shape[0])\n",
    "    XTX = XTX + reg\n",
    "\n",
    "    XTX_inv = np.linalg.inv(XTX)\n",
    "    w = XTX_inv.dot(X.T).dot(y)\n",
    "    \n",
    "    return w[0], w[1:]"
   ]
  },
  {
   "cell_type": "code",
   "execution_count": 33,
   "metadata": {},
   "outputs": [],
   "source": [
    "X_train = prepare2_X(df_train)"
   ]
  },
  {
   "cell_type": "code",
   "execution_count": 34,
   "metadata": {},
   "outputs": [
    {
     "name": "stdout",
     "output_type": "stream",
     "text": [
      "    0, -7.79, 0.00, -0.08\n",
      "0.001, -0.17, -0.00, -0.03\n",
      " 0.01, -0.15, -0.00, -0.03\n",
      "  0.1, -0.10, -0.00, -0.04\n",
      "    1, -0.02, -0.00, -0.05\n",
      "   10, 0.04, -0.00, -0.05\n"
     ]
    }
   ],
   "source": [
    "for r in [0, 0.001, 0.01, 0.1, 1, 10]:\n",
    "    w_0, w = train_linear_regression_reg(X_train, y_train, r=r)\n",
    "    print('%5s, %.2f, %.2f, %.2f' % (r, w_0, w[1], w[2]))"
   ]
  },
  {
   "cell_type": "code",
   "execution_count": 35,
   "metadata": {},
   "outputs": [
    {
     "name": "stdout",
     "output_type": "stream",
     "text": [
      "train 2.3244370008192967\n",
      "val 161826.8293533195\n"
     ]
    }
   ],
   "source": [
    "X_train = prepare2_X(df_train)\n",
    "w_0, w = train_linear_regression_reg(X_train, y_train, r=0)\n",
    "\n",
    "y_pred = w_0 + X_train.dot(w)\n",
    "print('train', rmse(y_train, y_pred))\n",
    "\n",
    "X_val = prepare2_X(df_val)\n",
    "y_pred = w_0 + X_val.dot(w)\n",
    "print('val', rmse(y_val, y_pred))"
   ]
  },
  {
   "cell_type": "code",
   "execution_count": 36,
   "metadata": {},
   "outputs": [
    {
     "name": "stdout",
     "output_type": "stream",
     "text": [
      "train 0.30978432194916616\n",
      "val 140.53625466959036\n"
     ]
    }
   ],
   "source": [
    "X_train = prepare2_X(df_train)\n",
    "w_0, w = train_linear_regression_reg(X_train, y_train, r=0.01)\n",
    "\n",
    "y_pred = w_0 + X_train.dot(w)\n",
    "print('train', rmse(y_train, y_pred))\n",
    "\n",
    "X_val = prepare2_X(df_val)\n",
    "y_pred = w_0 + X_val.dot(w)\n",
    "print('val', rmse(y_val, y_pred))"
   ]
  },
  {
   "cell_type": "code",
   "execution_count": 37,
   "metadata": {},
   "outputs": [
    {
     "name": "stdout",
     "output_type": "stream",
     "text": [
      " 1e-06 5706.830185102248\n",
      "0.0001 4080.240781273735\n",
      " 0.001 1138.0712518432338\n",
      "  0.01 140.53625466959036\n",
      "   0.1 13.994913315572218\n",
      "     1 1.1213366296573681\n",
      "     5 0.3782050142427583\n",
      "    10 0.36621348451318525\n"
     ]
    }
   ],
   "source": [
    "X_train = prepare2_X(df_train)\n",
    "X_val = prepare2_X(df_val)\n",
    "\n",
    "for r in [0.000001, 0.0001, 0.001, 0.01, 0.1, 1, 5, 10]:\n",
    "    w_0, w = train_linear_regression_reg(X_train, y_train, r=r)\n",
    "    y_pred = w_0 + X_val.dot(w)\n",
    "    print('%6s' %r, rmse(y_val, y_pred))"
   ]
  },
  {
   "cell_type": "code",
   "execution_count": 38,
   "metadata": {},
   "outputs": [
    {
     "name": "stdout",
     "output_type": "stream",
     "text": [
      "validation: 140.53625466959036\n",
      "test: 140.5257320716306\n"
     ]
    }
   ],
   "source": [
    "X_train = prepare2_X(df_train)\n",
    "w_0, w = train_linear_regression_reg(X_train, y_train, r=0.01)\n",
    "\n",
    "X_val = prepare2_X(df_val)\n",
    "y_pred = w_0 + X_val.dot(w)\n",
    "print('validation:', rmse(y_val, y_pred))\n",
    "\n",
    "X_test = prepare2_X(df_test)\n",
    "y_pred = w_0 + X_test.dot(w)\n",
    "print('test:', rmse(y_test, y_pred))"
   ]
  },
  {
   "cell_type": "markdown",
   "metadata": {},
   "source": [
    "## Using the model"
   ]
  },
  {
   "cell_type": "code",
   "execution_count": 39,
   "metadata": {},
   "outputs": [
    {
     "data": {
      "text/plain": [
       "{'model_year': 2024,\n",
       " 'vehicle_manufacturer_name': 'Mercedes-Benz',\n",
       " 'veh_mfr_code': 'MBX',\n",
       " 'represented_test_veh_make': 'Mercedes-Benz',\n",
       " 'represented_test_veh_model': 'CLA 250 4MATIC',\n",
       " 'test_vehicle_id': 'C118E20DETC-Z2462',\n",
       " 'test_veh_configuration_': 0,\n",
       " 'test_veh_displacement_l': 1.991,\n",
       " 'actual_tested_testgroup': 'RMBXJ02.0HY2',\n",
       " 'vehicle_type': 'Both',\n",
       " 'rated_horsepower': 221,\n",
       " '_of_cylinders_and_rotors': 4.0,\n",
       " 'engine_code': 'M260-20DETC',\n",
       " 'tested_transmission_type_code': 'AM',\n",
       " 'tested_transmission_type': 'Automated Manual',\n",
       " '_of_gears': 8,\n",
       " 'transmission_lockup': 'Y',\n",
       " 'drive_system_code': 'A',\n",
       " 'drive_system_description': 'All Wheel Drive',\n",
       " 'transmission_overdrive_code': 2,\n",
       " 'transmission_overdrive_desc': 'Top gear ratio < 1',\n",
       " 'equivalent_test_weight_lbs': 3875,\n",
       " 'axle_ratio': 2.68,\n",
       " 'nv_ratio': 24.1,\n",
       " 'shift_indicator_light_use_cd': 1,\n",
       " 'shift_indicator_light_use_desc': 'Not eqipped',\n",
       " 'test_number': 'RMBX10082670',\n",
       " 'test_originator': 'MFR',\n",
       " 'analytically_derived_fe': 'No',\n",
       " 'adfe_test_number': nan,\n",
       " 'adfe_total_road_load_hp': nan,\n",
       " 'adfe_equiv_test_weight_lbs': nan,\n",
       " 'adfe_nv_ratio': nan,\n",
       " 'test_procedure_cd': 3,\n",
       " 'test_procedure_description': 'HWFE',\n",
       " 'test_fuel_type_cd': 61,\n",
       " 'test_fuel_type_description': 'Tier 2 Cert Gasoline',\n",
       " 'test_category': 'HWY',\n",
       " 'thc_gmi': 0.0001609,\n",
       " 'co2_gmi': 176.0457973,\n",
       " 'nox_gmi': 0.0016093,\n",
       " 'pm_gmi': nan,\n",
       " 'ch4_gmi': 0.0001609,\n",
       " 'n2o_gmi': 0.0,\n",
       " 'rnd_adj_fe': 50.6,\n",
       " 'fe_unit': 'MPG',\n",
       " 'fe_bag_1': nan,\n",
       " 'fe_bag_2': nan,\n",
       " 'fe_bag_3': nan,\n",
       " 'fe_bag_4': nan,\n",
       " 'dtinertia_work_ratio_rating': -1.7436,\n",
       " 'dtabsolute_speed_change_ratg': -1.3961,\n",
       " 'dtenergy_economy_rating': -0.8271,\n",
       " 'target_coef_a_lbf': 32.6,\n",
       " 'target_coef_b_lbfmph': 0.4449,\n",
       " 'target_coef_c_lbfmph2': 0.0149,\n",
       " 'set_coef_a_lbf': 10.47,\n",
       " 'set_coef_b_lbfmph': 0.1176,\n",
       " 'set_coef_c_lbfmph2': 0.01622,\n",
       " 'aftertreatment_device_cd': 'TWC',\n",
       " 'aftertreatment_device_desc': 'Three-way catalyst',\n",
       " 'police__emergency_vehicle': 'N',\n",
       " 'averaging_group_id': nan,\n",
       " 'averaging_weighting_factor': nan,\n",
       " 'averaging_method_cd': 'N',\n",
       " 'averging_method_desc': 'No averaging'}"
      ]
     },
     "execution_count": 39,
     "metadata": {},
     "output_type": "execute_result"
    }
   ],
   "source": [
    "# Let us select a vehicle in the Test set to predict its CO emission\n",
    "# with index=2, this is a 2024, Mercedes-Benz, Model: CLA 250 4MATIC\n",
    "\n",
    "i = 2\n",
    "ad = df_test.iloc[i].to_dict()\n",
    "ad"
   ]
  },
  {
   "cell_type": "code",
   "execution_count": 40,
   "metadata": {},
   "outputs": [
    {
     "data": {
      "text/plain": [
       "0.11119202726926658"
      ]
     },
     "execution_count": 40,
     "metadata": {},
     "output_type": "execute_result"
    }
   ],
   "source": [
    "X_test = prepare2_X(pd.DataFrame([ad]))[0]\n",
    "y_pred = w_0 + X_test.dot(w)\n",
    "co_gmi_predicted = np.expm1(y_pred)\n",
    "co_gmi_predicted"
   ]
  },
  {
   "cell_type": "code",
   "execution_count": 41,
   "metadata": {},
   "outputs": [
    {
     "data": {
      "text/plain": [
       "0.1213448"
      ]
     },
     "execution_count": 41,
     "metadata": {},
     "output_type": "execute_result"
    }
   ],
   "source": [
    "# Here is the value of the observed CO(g/mi) in data sample i=2 in Y-test set\n",
    "co_gmi_observed = y_test[i]\n",
    "co_gmi_observed"
   ]
  }
 ],
 "metadata": {
  "anaconda-cloud": {},
  "kernelspec": {
   "display_name": "Python [conda env:CHEE426] *",
   "language": "python",
   "name": "conda-env-CHEE426-py"
  },
  "language_info": {
   "codemirror_mode": {
    "name": "ipython",
    "version": 3
   },
   "file_extension": ".py",
   "mimetype": "text/x-python",
   "name": "python",
   "nbconvert_exporter": "python",
   "pygments_lexer": "ipython3",
   "version": "3.10.13"
  }
 },
 "nbformat": 4,
 "nbformat_minor": 4
}
